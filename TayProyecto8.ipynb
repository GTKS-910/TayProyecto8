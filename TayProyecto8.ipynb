{
  "nbformat": 4,
  "nbformat_minor": 0,
  "metadata": {
    "colab": {
      "provenance": [],
      "authorship_tag": "ABX9TyMyKMtGvCca0hBrcGjsK40F",
      "include_colab_link": true
    },
    "kernelspec": {
      "name": "python3",
      "display_name": "Python 3"
    },
    "language_info": {
      "name": "python"
    }
  },
  "cells": [
    {
      "cell_type": "markdown",
      "metadata": {
        "id": "view-in-github",
        "colab_type": "text"
      },
      "source": [
        "<a href=\"https://colab.research.google.com/github/GTKS-910/TayProyecto8/blob/main/TayProyecto8.ipynb\" target=\"_parent\"><img src=\"https://colab.research.google.com/assets/colab-badge.svg\" alt=\"Open In Colab\"/></a>"
      ]
    },
    {
      "cell_type": "code",
      "execution_count": 7,
      "metadata": {
        "colab": {
          "base_uri": "https://localhost:8080/",
          "height": 130
        },
        "id": "oOwd6V69MiWT",
        "outputId": "baae5553-c3a2-4a6b-e1e0-b697eae41313"
      },
      "outputs": [
        {
          "output_type": "error",
          "ename": "SyntaxError",
          "evalue": "ignored",
          "traceback": [
            "\u001b[0;36m  File \u001b[0;32m\"<ipython-input-7-d70421d1a68f>\"\u001b[0;36m, line \u001b[0;32m21\u001b[0m\n\u001b[0;31m    import matplotlib.pyplot as plt\u001b[0m\n\u001b[0m                    ^\u001b[0m\n\u001b[0;31mSyntaxError\u001b[0m\u001b[0;31m:\u001b[0m invalid character in identifier\n"
          ]
        }
      ],
      "source": [
        "from google.colab import auth\n",
        "auth.authenticate_user()\n",
        "print ('Authenticated')\n",
        "\n",
        "\n",
        "import matplotlib.pyplot as plt\n",
        "\n",
        "x = [1,2,3,4,5,6,7,8,9]\n",
        "y1 = [1,3,5,3,1,3,5,3,1]\n",
        "y2 = [2,4,6,4,2,4,6,4,2]\n",
        "plt.plot(x,y1,label = \"line I\")\n",
        "plt.plot(x,y2,label = \"line H\")\n",
        "plt.plot()\n",
        "\n",
        "plt.xlabel(\"x axis\")\n",
        "plt.ylabel(\"y axis\")\n",
        "plt.title(\"Line Graph Example\")\n",
        "plt.legend()\n",
        "plt.show()\n",
        "\n",
        "import matplotlib.pyplot as plt\n",
        "x1 = [1, 3, 4, 5, 6, 7, 9]\n",
        "y1 = [4, 7, 2, 4, 7, 8, 3]\n",
        "x2 = [2, 4, 6, 8, 10]\n",
        "y2 = [5, 6, 2, 6, 2]\n",
        "\n",
        "plt.show()\n",
        "\n",
        "plt.bar(x1, y1, label=\"Rojo\", color ='r')\n",
        "plt.bar(x2, y2, label=\"Magenta\", color='m')\n",
        "plt.plot()\n",
        "\n",
        "plt.xlabel(\"bar number\")\n",
        "plt.ylabel(\"bar height\")\n",
        "plt.title(\"Bar Chart Example\")\n",
        "plt.legend()\n",
        "plt.show()\n",
        "\n",
        "\n",
        "import matplotlib.pyplot as plt\n",
        "import numpy as np\n",
        "\n",
        "n = np.random.randn(1000)\n",
        "m = [m for m in range(len(n))]\n",
        "plt.bar(m, n)\n",
        "plt.title(\"Datos de calificaciones\")\n",
        "plt.show()\n",
        "plt.hist(n, bins=20)\n",
        "plt.title(\"Histograma\")\n",
        "plt.show()\n",
        "\n",
        "import matplotlib.pyplot as plt\n",
        "x1 = [2, 3, 4]\n",
        "y1 = [5, 5, 5]\n",
        "x2 = [1, 2, 3, 4, 5]\n",
        "y2 = [2, 3, 2, 3, 4]\n",
        "y3 = [6, 8, 7, 8, 7]\n",
        "plt.scatter(x1, y1)\n",
        "plt.scatter(x2, y2, marker=\"D\", color='r')\n",
        "plt.scatter(x2, y3, marker=\"^\";, color='m')\n",
        "plt.title('Scatter Plot Example')\n",
        "plt.show()\n",
        "\n",
        "import numpy as np; np.random.seed(0)\n",
        "import seaborn as sns; sns.set_theme()\n",
        "uniform_data = np.random.rand(10, 50)\n",
        "ax = sns.heatmap(uniform_data)"
      ]
    }
  ]
}